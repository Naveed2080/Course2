{
 "cells": [
  {
   "cell_type": "raw",
   "id": "c1aeb192-9bac-4d49-85c6-93cc6e0baef3",
   "metadata": {},
   "source": [
    "# Data Science Tools and Ecosystem"
   ]
  },
  {
   "cell_type": "raw",
   "id": "2e117db8-9cc8-448b-aefb-2685f074e447",
   "metadata": {},
   "source": [
    "In this notebook, Data Science Tools and Ecosystem are summarized."
   ]
  },
  {
   "cell_type": "raw",
   "id": "4948218d-e49e-4fac-9b96-14bc5ffb7679",
   "metadata": {},
   "source": [
    "**Objectives:**\n",
    "- List popular languages for Data Science\n",
    "- Commonly used libraries used by Data Scientists\n",
    "- Simple arithmetic expression"
   ]
  },
  {
   "cell_type": "raw",
   "id": "86b2a1b1-9868-44a1-bc90-966a5cd2b428",
   "metadata": {},
   "source": [
    "Some of the popular languages that Data Scientists use are:\n",
    "1. Python\n",
    "2. R\n",
    "3. SQL\n",
    "4. Java"
   ]
  },
  {
   "cell_type": "markdown",
   "id": "893da3c0-7c2c-4b90-ab43-043bdcaf9028",
   "metadata": {},
   "source": [
    "Some of the commonly used libraries used by Data Scientists include:\n",
    "1. Pandas\n",
    "2. NumPy\n",
    "3. scikit-learn\n",
    "4. matplotlab"
   ]
  },
  {
   "cell_type": "raw",
   "id": "4c647d90-882d-488f-8aa5-6f69743a1a16",
   "metadata": {},
   "source": [
    "| Data Science Tools   |\n",
    "|-----------|\n",
    "| 1. JupyterLab      |\n",
    "| 2. RStudio      |\n",
    "| 3. VS Code      |  |\r\n"
   ]
  },
  {
   "cell_type": "markdown",
   "id": "4bf65193-fad2-4088-971f-2c41f229cbfe",
   "metadata": {},
   "source": [
    "### Below are a few examples of evaluating arithmetic expressions in Python"
   ]
  },
  {
   "cell_type": "markdown",
   "id": "d9550dab-9cbb-4515-ac02-22485ee404e5",
   "metadata": {},
   "source": [
    "This a simple arithmetic expression to mutiply then add integers"
   ]
  },
  {
   "cell_type": "code",
   "execution_count": 20,
   "id": "6698cc62-581f-4323-972c-d0789db4c9c9",
   "metadata": {},
   "outputs": [
    {
     "data": {
      "text/plain": [
       "17"
      ]
     },
     "execution_count": 20,
     "metadata": {},
     "output_type": "execute_result"
    }
   ],
   "source": [
    "(3*4)+5"
   ]
  },
  {
   "cell_type": "markdown",
   "id": "8a353c28-ff6d-4989-ad8a-5d2eec39c1fb",
   "metadata": {},
   "source": [
    "This will convert 200 minutes to hours by diving by 60"
   ]
  },
  {
   "cell_type": "code",
   "execution_count": 22,
   "id": "60bd67cc-e5a1-4165-b5d1-44d4d25a31ec",
   "metadata": {},
   "outputs": [
    {
     "data": {
      "text/plain": [
       "3.3333333333333335"
      ]
     },
     "execution_count": 22,
     "metadata": {},
     "output_type": "execute_result"
    }
   ],
   "source": [
    "200/60"
   ]
  },
  {
   "cell_type": "markdown",
   "id": "36cdc1be-735e-40cb-a104-76eea90d311d",
   "metadata": {},
   "source": [
    "## Author\n",
    "Naveed Khokhar"
   ]
  },
  {
   "cell_type": "code",
   "execution_count": null,
   "id": "c2e799a7-e09a-4293-96fc-b4be1bfca47a",
   "metadata": {},
   "outputs": [],
   "source": []
  }
 ],
 "metadata": {
  "kernelspec": {
   "display_name": "Python 3 (ipykernel)",
   "language": "python",
   "name": "python3"
  },
  "language_info": {
   "codemirror_mode": {
    "name": "ipython",
    "version": 3
   },
   "file_extension": ".py",
   "mimetype": "text/x-python",
   "name": "python",
   "nbconvert_exporter": "python",
   "pygments_lexer": "ipython3",
   "version": "3.12.4"
  }
 },
 "nbformat": 4,
 "nbformat_minor": 5
}
